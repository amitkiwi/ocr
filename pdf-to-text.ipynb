{
 "cells": [
  {
   "cell_type": "code",
   "execution_count": null,
   "metadata": {},
   "outputs": [],
   "source": []
  },
  {
   "cell_type": "code",
   "execution_count": 30,
   "metadata": {},
   "outputs": [],
   "source": [
    "import string\n",
    "import textract\n"
   ]
  },
  {
   "cell_type": "code",
   "execution_count": 31,
   "metadata": {},
   "outputs": [],
   "source": [
    "fname = \"./data/f1040- schedule C.pdf\"\n"
   ]
  },
  {
   "cell_type": "code",
   "execution_count": 32,
   "metadata": {},
   "outputs": [
    {
     "name": "stdout",
     "output_type": "stream",
     "text": [
      "CPU times: user 17.6 ms, sys: 12.2 ms, total: 29.7 ms\n",
      "Wall time: 91.6 ms\n"
     ]
    }
   ],
   "source": [
    "%%time\n",
    "\n",
    "text = textract.process(fname, method='pdftotext', encoding='utf-8')\n"
   ]
  },
  {
   "cell_type": "code",
   "execution_count": null,
   "metadata": {},
   "outputs": [],
   "source": []
  },
  {
   "cell_type": "code",
   "execution_count": 33,
   "metadata": {},
   "outputs": [
    {
     "name": "stdout",
     "output_type": "stream",
     "text": [
      "type(text):  <class 'bytes'> \n",
      "\n",
      "type(processed_txt):  <class 'str'> \n",
      "\n"
     ]
    }
   ],
   "source": [
    "print('type(text): ', type(text), '\\n')\n",
    "\n",
    "processed_txt = text.decode('utf-8')\n",
    "print('type(processed_txt): ', type(processed_txt), '\\n')\n",
    "# processed_txt\n"
   ]
  },
  {
   "cell_type": "code",
   "execution_count": null,
   "metadata": {},
   "outputs": [],
   "source": []
  },
  {
   "cell_type": "code",
   "execution_count": 34,
   "metadata": {},
   "outputs": [
    {
     "data": {
      "text/plain": [
       "'SCHEDULE C, (Form 1040 or 1040-SR), Profit or Loss From Business, ▶ Go, OMB No. 1545-0074, 2019, (Sole Proprietorship), to www.irs.gov/ScheduleC for instructions and the latest information., Department of the Treasury, Internal Revenue Service (99) ▶ Attach to Form 1040, 1040-SR, 1040-NR, or 1041; partnerships generally must file Form 1065., Attachment, Sequence No. 09, Name of proprietor, Social security number (SSN), A, B Enter code from instructions, Principal business or profession, including product or service (see instructions), ▶, C, Business name. If no separate business name, leave blank., E, Business address (including suite or room no.), F, G, H, City, town or post office, state, and ZIP code, Cash, (2), Accrual, (3), Other (specify) ▶, Accounting method:, (1), Did you “materially participate” in the operation of this business during 2019? If “No,” see instructions for limit on losses, If you started or acquired this business during 2019, check here . . . . . . . . . . . . . . . . ., I, J, Did you make any payments in 2019 that would require you to file Form(s) 1099? (see instructions) ., If “Yes,” did you or will you file required Forms 1099? . . . . . . . . . . . . . ., Part I, D Employer ID number (EIN) (see instr.), ▶, Income, ., ., ., ., ., ., ., ., 2, 3, 4, Gross receipts or sales. See instructions for line 1 and check the box if this income was reported to you on, Form W-2 and the “Statutory employee” box on that form was checked . . . . . . . . . ▶, Returns and allowances . . . . . . . . . . . . . . . . . . . . . . . . ., Subtract line 2 from line 1 . . . . . . . . . . . . . . . . . . . . . . . ., Cost of goods sold (from line 42) . . . . . . . . . . . . . . . . . . . . . ., 1, 2, 3, 4, 5, 6, 7, Gross profit. Subtract line 4 from line 3 . . . . . . . . . . . . . . . . ., Other income, including federal and state gasoline or fuel tax credit or refund (see instructions) ., Gross income. Add lines 5 and 6 . . . . . . . . . . . . . . . . . . ., 5, 6, 7, 8, Advertising ., 9, Car and truck expenses (see, instructions) . . . . ., Commissions and fees ., Contract labor (see instructions), 1, Part II, 10, 11, Expenses. Enter expenses for business use of your home only on line 30., ., ., ., ., 12, 13, Depletion . . . . ., Depreciation and section 179, expense, deduction, (not, included in Part III) (see, instructions) . . . . ., 14, Employee benefit programs, (other than on line 19) . ., Insurance (other than health), Interest (see instructions):, Mortgage (paid to banks, etc.), 15, 16, a, b, 17, 28, 29, 30, 8, 18, 19, 9, 10, 11, 20, 12, 21, 22, 23, 13, 24, a, b, a, 14, 15, b, 25, 26, 16a, ., ., ., ., ., ., 18, 19, Rent or lease (see instructions):, Vehicles, machinery, and equipment, Other business property . . ., 20a, 20b, Repairs and maintenance . . ., Supplies (not included in Part III) ., Taxes and licenses . . . . ., 21, 22, 23, Travel and meals:, Travel . . . ., ., 24a, Deductible meals (see, instructions) . . . . . . ., Utilities . . . . . . . ., Wages (less employment credits) ., 24b, 25, 26, ., ., ., ., 16b, 27a Other expenses (from line 48) ., 17, b Reserved for future use . ., Total expenses before expenses for business use of home. Add lines 8 through 27a . . . . . ., ., ., ., ., ., ▶, Office expense (see instructions), Pension and profit-sharing plans ., Other . . . . . ., Legal and professional services, Tentative profit or (loss). Subtract line 28 from line 7 ., ., ., ., ., ., ., ., ., ., ., ., ., ., ., ▶, ., ., ., ., ., ., Yes, No, Yes, Yes, No, No, ▶, ., ., 27a, 27b, 28, 29, Expenses for business use of your home. Do not report these expenses elsewhere. Attach Form 8829, unless using the simplified method (see instructions)., Simplified method filers only: enter the total square footage of: (a) your home:, and (b) the part of your home used for business:, Method Worksheet in the instructions to figure the amount to enter on line 30, ., ., . Use the Simplified, . . . . . . ., 31, Net profit or (loss). Subtract line 30 from line 29., 32, • If a profit, enter on both Schedule 1 (Form 1040 or 1040-SR), line 3 (or Form 1040-NR, line, 13) and on Schedule SE, line 2. (If you checked the box on line 1, see instructions). Estates and, trusts, enter on Form 1041, line 3., • If a loss, you must go to line 32., If you have a loss, check the box that describes your investment in this activity (see instructions)., • If you checked 32a, enter the loss on both Schedule 1 (Form 1040 or 1040-SR), line 3 (or, Form 1040-NR, line 13) and on Schedule SE, line 2. (If you checked the box on line 1, see the line, 31 instructions). Estates and trusts, enter on Form 1041, line 3., • If you checked 32b, you must attach Form 6198. Your loss may be limited., For Paperwork Reduction Act Notice, see the separate instructions., Cat. No. 11334P, }, }, 30, 31, 32a, 32b, All investment is at risk., Some investment is not, at risk., Schedule C (Form 1040 or 1040-SR) 2019, Page 2, Schedule C (Form 1040 or 1040-SR) 2019, Part III, Cost of Goods Sold (see instructions), 33, Method(s) used to, value closing inventory:, 34, Was there any change in determining quantities, costs, or valuations between opening and closing inventory?, If “Yes,” attach explanation . . . . . . . . . . . . . . . . . . . . . . . . ., a, b, Cost, c, Lower of cost or market, Other (attach explanation), 35, Inventory at beginning of year. If different from last year’s closing inventory, attach explanation ., ., ., 35, 36, Purchases less cost of items withdrawn for personal use, ., ., ., ., ., ., ., ., ., ., ., ., ., ., 36, 37, Cost of labor. Do not include any amounts paid to yourself ., ., ., ., ., ., ., ., ., ., ., ., ., ., 37, 38, Materials and supplies, ., ., ., ., ., ., ., ., ., ., ., ., ., ., ., ., ., ., ., ., ., ., ., ., 38, 39, Other costs ., ., ., ., ., ., ., ., ., ., ., ., ., ., ., ., ., ., ., ., ., ., ., ., ., 39, 40, Add lines 35 through 39 ., ., ., ., ., ., ., ., ., ., ., ., ., ., ., ., ., ., ., ., ., ., ., ., 40, 41, Inventory at end of year ., ., ., ., ., ., ., ., ., ., ., ., ., ., ., ., ., ., ., ., ., ., ., ., 41, 42, Cost of goods sold. Subtract line 41 from line 40. Enter the result here and on line 4 ., ., ., ., ., ., 42, Part IV, ., ., ., Yes, ., Information on Your Vehicle. Complete this part only if you are claiming car or truck expenses on line 9, and are not required to file Form 4562 for this business. See the instructions for line 13 to find out if you must, file Form 4562., /, /, 43, When did you place your vehicle in service for business purposes? (month, day, year), 44, Of the total number of miles you drove your vehicle during 2019, enter the number of miles you used your vehicle for:, a, No, ▶, b Commuting (see instructions), Business, c Other, Yes, No, 45, Was your vehicle available for personal use during off-duty hours?, ., ., ., ., ., ., ., ., ., ., ., ., ., ., 46, Do you (or your spouse) have another vehicle available for personal use?., ., ., ., ., ., ., ., ., ., ., ., ., ., Yes, No, 47a, Do you have evidence to support your deduction?, ., ., ., ., ., ., ., ., ., ., ., ., ., ., ., ., ., ., ., ., Yes, No, If “Yes,” is the evidence written?, ., ., ., ., ., ., ., ., ., ., ., ., ., ., ., ., ., ., ., ., Yes, No, b, Part V, 48, ., ., ., ., ., ., Other Expenses. List below business expenses not included on lines 8–26 or line 30., Total other expenses. Enter here and on line 27a ., ., ., ., ., ., ., ., ., ., ., ., ., ., ., ., 48, Schedule C (Form 1040 or 1040-SR) 2019'"
      ]
     },
     "execution_count": 34,
     "metadata": {},
     "output_type": "execute_result"
    }
   ],
   "source": [
    "temp = []\n",
    "for i in processed_txt.strip('\\n').split('\\n'):\n",
    "    i = i.strip()\n",
    "    if i and len(i) > 0:\n",
    "        temp.append(i)\n",
    "\n",
    "filtered_txt = ', '.join(temp)\n",
    "filtered_txt\n"
   ]
  },
  {
   "cell_type": "code",
   "execution_count": null,
   "metadata": {},
   "outputs": [],
   "source": []
  },
  {
   "cell_type": "code",
   "execution_count": null,
   "metadata": {},
   "outputs": [],
   "source": []
  }
 ],
 "metadata": {
  "kernelspec": {
   "display_name": "Python 3",
   "language": "python",
   "name": "python3"
  },
  "language_info": {
   "codemirror_mode": {
    "name": "ipython",
    "version": 3
   },
   "file_extension": ".py",
   "mimetype": "text/x-python",
   "name": "python",
   "nbconvert_exporter": "python",
   "pygments_lexer": "ipython3",
   "version": "3.7.5"
  }
 },
 "nbformat": 4,
 "nbformat_minor": 4
}
